{
 "cells": [
  {
   "cell_type": "markdown",
   "metadata": {},
   "source": [
    "## Report: Visualization and Analysis"
   ]
  },
  {
   "cell_type": "markdown",
   "metadata": {},
   "source": [
    "WeRateDogs is a Twitter account that rates people's dogs with a humorous comment about the dog. These ratings almost always have a denominator of 10. The numerators, though? Almost always greater than 10. 11/10, 12/10, 13/10, etc. Why? Because \"they're good dogs Brent.\" WeRateDogs has over 4 million followers and has received international media coverage.\n",
    "\n",
    "Data to be analyzed was gathered from three sources and in three different format\n",
    "   1. WeRateDogs downloaded  Twitter archive in CSV format\n",
    "   2. Image predction TSV file,a Twitter archive runned through a neural network.\n",
    "   3. Extra Archive file obtained through an API code in twitter in json/text format. \n",
    "    \n",
    "This data was gathered,analyzed,cleaned and intergrated into one data set using wrangling techniques. \n",
    "\n",
    "Using the cleaned and merged WeRateDogs Twitter data I created analysis and visualizations in order to commnicate the findings to the following research questions\n",
    "\n",
    "1. What are the top five common names for dogs?\n",
    "2. Which dog breed has the largest number of retweet count and favorite count?\n",
    "3. What is the most popular dog type?\n",
    "4. Which dog breeds are the most common?\n",
    "\n"
   ]
  },
  {
   "cell_type": "markdown",
   "metadata": {},
   "source": [
    "## Findings"
   ]
  },
  {
   "cell_type": "markdown",
   "metadata": {},
   "source": [
    "**The top five common names for dogs**\n",
    "\n",
    "The top common names for dogs are Cooper,Oliver, Charlie,Tucker and Penny with about 10 occurence each based on this data."
   ]
  },
  {
   "cell_type": "markdown",
   "metadata": {},
   "source": [
    "**The most popular dog type**\n",
    "\n",
    "From the data, the most popular dog type  is pupper with `1258470` favourite counts, followed by doggo with favourite counts of   `1090267` and on the third position is puppo with ` 430214` counts."
   ]
  },
  {
   "cell_type": "markdown",
   "metadata": {},
   "source": [
    "**The most common dog breeds**\n",
    "\n"
   ]
  },
  {
   "cell_type": "markdown",
   "metadata": {},
   "source": [
    "Golden Retriever and Labrador Retriever are the most common dogs breeds according to the WeRateDogs data with over hundred occurances in the tweets, closely follwed by pembroke\n",
    "  "
   ]
  },
  {
   "cell_type": "markdown",
   "metadata": {},
   "source": [
    "**Dog breed with the largest number of retweet count and favorite count**\n",
    "\n",
    "From this data we can see that the most liked and retweeted tweets are the images of a Golden Retriever. The second and third breeds being Labrador Retriever and Pembroke Welsh Corgi ."
   ]
  },
  {
   "cell_type": "markdown",
   "metadata": {},
   "source": [
    "![alt](download1.png)\n",
    "\n",
    "![alt](download2.png)\n"
   ]
  }
 ],
 "metadata": {
  "kernelspec": {
   "display_name": "Python 3 (ipykernel)",
   "language": "python",
   "name": "python3"
  },
  "language_info": {
   "codemirror_mode": {
    "name": "ipython",
    "version": 3
   },
   "file_extension": ".py",
   "mimetype": "text/x-python",
   "name": "python",
   "nbconvert_exporter": "python",
   "pygments_lexer": "ipython3",
   "version": "3.9.12"
  }
 },
 "nbformat": 4,
 "nbformat_minor": 2
}
