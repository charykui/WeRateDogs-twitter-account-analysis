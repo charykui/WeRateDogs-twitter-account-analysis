{
 "cells": [
  {
   "cell_type": "markdown",
   "metadata": {},
   "source": [
    "## Reporting: Data Wrangling"
   ]
  },
  {
   "cell_type": "markdown",
   "metadata": {},
   "source": [
    "This project contains three dataframes for analysis;\n",
    "\n",
    "1. The `twitter-archive-enhanced.csv` file which was directly downloaded through the course resources.\n",
    "\n",
    "2. The `extra_archive` which was obtained with the twitter API tweepy using the api credentials for authentication. The extra_archive data was gathered and stored in a json/text file as dictionary and contains data about retweeted counts and the favourite counts.The `pd.read_json()` function was used to read the json file inside the txt file and specified the lines parameter to true to read each line as a separate JSON file.\n",
    "\n",
    "3. The `image_predictions` TSV file which was downloaded programmatically using the request library.This file contains information of the results obtained after running every image in the WeRateDogs Twitter archive through a neural network that can classify breeds of dogs.To read the TSV, the sep parameter is set to '\\t' in the read_csv function."
   ]
  },
  {
   "cell_type": "markdown",
   "metadata": {},
   "source": [
    "#### Assessing"
   ]
  },
  {
   "cell_type": "markdown",
   "metadata": {},
   "source": [
    "After gathering the data, the three dataframes were saved and assessed Visually and Programmatically. \n",
    "\n",
    "**Visually Assessment**\n",
    "- Noticed the Nan values of in_reply_to_status_id column\n",
    "- Noticed Non descriptive columns and repetitve columns\n",
    "- name values in the `twitter_archive`, which had inaccurate values\n",
    "- The names of breeds were inconsistent in the `image_prediction` dataframe\n",
    "\n",
    "**Programmatic Assessment**\n",
    "- Using the `info()`, I found some columns with incorrect data type like timestamp\n",
    "- Finding duplicated rows using the `duplicate()` function\n",
    "- the false predictions, some rows had other than dog animals\n",
    "- rating_denominator and rating_numerator, which had inconsistent values\n",
    "\n",
    "With the assessment the following quality and tidiness issues were noted;\n",
    "\n",
    "##### Quality issues\n",
    "1. The denominator values are not consistent\n",
    "\n",
    "2. Retweets that are not the original tweets\n",
    "\n",
    "3. Many Null values in columns: `in_reply_to_status_id, in_reply_to_user_id, retweeted_status_id,   retweeted_status_user_id, retweeted_status_timestamp, source`\n",
    "\n",
    "4. Incorrect  data type for Timestamp  in the `twitter_archive` table\n",
    "\n",
    "5. False dog names in the `twitter_archive` table like 'a'\n",
    "\n",
    "6.  Umbiguous breed and confidence data in `image_prediction`\n",
    "\n",
    "7. Inconsistent dog names in `image_prediction` table\n",
    "\n",
    "8. Less descriptive column names\n",
    "\n",
    "###### Tidiness issues\n",
    "1. The dogs type columns: doggo, floofer, pupper, puppo should be joined to form one column\n",
    "2. The tree ables needs to be merged to produce a master dataset\n",
    "\n"
   ]
  },
  {
   "cell_type": "markdown",
   "metadata": {},
   "source": [
    "#### Cleaning\n",
    "\n",
    "Made a copy of each data frame for the purpose of cleaning process."
   ]
  },
  {
   "cell_type": "markdown",
   "metadata": {},
   "source": [
    "`twitter_archive_clean` \n",
    "\n",
    "- The false names were mostly lowercase so names with lowercase were removed.\n",
    "- Rating nominator that exceeded 13 were approximated to 13 and ratings with decimals were corrected \n",
    "- The denominator was set to a default of 13.\n",
    "- Columns with so many Nan values were dropped, like (in_reply_to_status_id, in_reply_to_user_id, retweeted_status_id, retweeted_status_user_id, retweeted_status_timestamp, source).\n",
    "- Timestamp datatype was converted to the correct datetime data type.\n",
    "- Type of dog was merged in one column instead of 4 different columns.\n",
    "\n",
    "`image_predictions_clean` \n",
    "\n",
    "- most accurately predicted dog column was extracted and created.\n",
    "- dog names were corrected by removing the underscore from the names.\n",
    "- column names were edited to indicated descriptive.\n",
    "\n",
    "`extra_archive_clean`\n",
    "\n",
    "- column names were edited to indicated descriptive."
   ]
  },
  {
   "cell_type": "code",
   "execution_count": null,
   "metadata": {},
   "outputs": [],
   "source": []
  }
 ],
 "metadata": {
  "kernelspec": {
   "display_name": "Python 3 (ipykernel)",
   "language": "python",
   "name": "python3"
  },
  "language_info": {
   "codemirror_mode": {
    "name": "ipython",
    "version": 3
   },
   "file_extension": ".py",
   "mimetype": "text/x-python",
   "name": "python",
   "nbconvert_exporter": "python",
   "pygments_lexer": "ipython3",
   "version": "3.9.12"
  }
 },
 "nbformat": 4,
 "nbformat_minor": 2
}
